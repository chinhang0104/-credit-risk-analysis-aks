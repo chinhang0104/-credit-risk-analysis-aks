{
 "cells": [
  {
   "cell_type": "code",
   "execution_count": 5,
   "metadata": {},
   "outputs": [],
   "source": [
    "from pyspark.sql.types import *\n",
    "from pyspark.sql.functions import *\n",
    "from pyspark.sql import SparkSession\n",
    "from pyspark import SparkContext\n",
    "\n",
    "from pyspark.ml import Pipeline\n",
    "from pyspark.ml.feature import VectorAssembler\n",
    "from pyspark.ml.stat import Correlation\n",
    "from pyspark.mllib.stat import Statistics\n",
    "from pyspark.ml.feature import OneHotEncoder, StringIndexer\n",
    "from pyspark.ml.feature import Imputer\n",
    "from pyspark.sql.types import StringType, DoubleType, IntegerType\n",
    "\n",
    "from pyspark.sql.functions import when, count, col\n",
    "\n",
    "spark = SparkSession.builder.master(\"local[*]\").getOrCreate()"
   ]
  },
  {
   "cell_type": "code",
   "execution_count": 2,
   "metadata": {
    "_cell_guid": "79c7e3d0-c299-4dcb-8224-4455121ee9b0",
    "_uuid": "d629ff2d2480ee46fbb7e2d37f6b5fab8052498a"
   },
   "outputs": [],
   "source": [
    "# numpy and pandas for data manipulation\n",
    "import numpy as np\n",
    "import pandas as pd \n",
    "\n",
    "# sklearn preprocessing for dealing with categorical variables\n",
    "from sklearn.preprocessing import LabelEncoder\n",
    "\n",
    "# File system manangement\n",
    "import os\n",
    "\n",
    "# Suppress warnings \n",
    "import warnings\n",
    "warnings.filterwarnings('ignore')\n",
    "\n",
    "# matplotlib and seaborn for plotting\n",
    "import matplotlib.pyplot as plt\n",
    "import seaborn as sns"
   ]
  },
  {
   "cell_type": "code",
   "execution_count": 29,
   "metadata": {},
   "outputs": [],
   "source": [
    "df_train = spark.read.csv(\"../input/home-credit-default-risk/application_train.csv\",inferSchema=\"true\", header=\"true\")\n",
    "df_test = spark.read.csv(\"../input/home-credit-default-risk/application_test.csv\",inferSchema=\"true\", header=\"true\")\n",
    "df_prevap = spark.read.csv(\"../input/home-credit-default-risk/previous_application.csv\",inferSchema=\"true\", header=\"true\")"
   ]
  },
  {
   "cell_type": "code",
   "execution_count": 26,
   "metadata": {},
   "outputs": [],
   "source": [
    "def getcolumns(df):\n",
    "    str_cols = [f.name for f in df.schema.fields if isinstance(f.dataType, StringType)]\n",
    "    double_cols = [f.name for f in df.schema.fields if isinstance(f.dataType, DoubleType)]\n",
    "    int_cols = [f.name for f in df.schema.fields if isinstance(f.dataType, IntegerType)]\n",
    "    num_cols = double_cols + int_cols\n",
    "    return str_cols, num_cols"
   ]
  },
  {
   "cell_type": "code",
   "execution_count": 31,
   "metadata": {},
   "outputs": [],
   "source": [
    "def getfeatures(df_train, df_test, df_prevap):\n",
    "    missing_60 = ['COMMONAREA_AVG', 'COMMONAREA_MODE', 'NONLIVINGAPARTMENTS_MEDI', 'NONLIVINGAPARTMENTS_MODE', 'NONLIVINGAPARTMENTS_AVG', 'FONDKAPREMONT_MODE', 'LIVINGAPARTMENTS_MODE', 'LIVINGAPARTMENTS_MEDI', 'LIVINGAPARTMENTS_AVG', 'FLOORSMIN_MODE', 'FLOORSMIN_MEDI', 'FLOORSMIN_AVG', 'YEARS_BUILD_MODE', 'YEARS_BUILD_MEDI', 'YEARS_BUILD_AVG', 'OWN_CAR_AGE']\n",
    "    df_train = df_train.select(([c for c in df_train.columns if c not in missing_60]))\n",
    "    df_test = df_test.select(([c for c in df_test.columns if c not in missing_60]))\n",
    "    \n",
    "    imputer = Imputer(inputCols=getcolumns(df_train)[1], outputCols=getcolumns(df_train)[1])\n",
    "    model = imputer.fit(df_train)\n",
    "    model.transform(df_train)\n",
    "    \n",
    "    imputer = Imputer(inputCols=getcolumns(df_test)[1], outputCols=getcolumns(df_test)[1])\n",
    "    model = imputer.fit(df_test)\n",
    "    model.transform(df_test)    \n",
    "    \n",
    "    dulp = list(set(df_prevap.columns) & set(df_train.columns))\n",
    "    for x in dulp:\n",
    "        df_prevap=df_prevap.withColumnRenamed(x, x + '_prev')\n",
    "    df_train = df_train.join(df_prevap, df_train.SK_ID_CURR==df_prevap.SK_ID_CURR_prev)\n",
    "    df_test = df_test.join(df_prevap, df_test.SK_ID_CURR==df_prevap.SK_ID_CURR_prev)\n",
    "    \n",
    "    return df_train, df_test\n",
    "    "
   ]
  },
  {
   "cell_type": "code",
   "execution_count": 33,
   "metadata": {},
   "outputs": [],
   "source": [
    "df_train, df_test = getfeatures(df_train, df_test, df_prevap)"
   ]
  }
 ],
 "metadata": {
  "kernelspec": {
   "display_name": "Python 3",
   "language": "python",
   "name": "python3"
  },
  "language_info": {
   "codemirror_mode": {
    "name": "ipython",
    "version": 3
   },
   "file_extension": ".py",
   "mimetype": "text/x-python",
   "name": "python",
   "nbconvert_exporter": "python",
   "pygments_lexer": "ipython3",
   "version": "3.8.3"
  }
 },
 "nbformat": 4,
 "nbformat_minor": 4
}

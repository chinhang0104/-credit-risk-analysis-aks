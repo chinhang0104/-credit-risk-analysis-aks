{
  "nbformat": 4,
  "nbformat_minor": 0,
  "metadata": {
    "colab": {
      "name": "5003.ipynb",
      "provenance": [],
      "collapsed_sections": []
    },
    "kernelspec": {
      "name": "python3",
      "display_name": "Python 3"
    }
  },
  "cells": [
    {
      "cell_type": "code",
      "metadata": {
        "colab": {
          "base_uri": "https://localhost:8080/"
        },
        "id": "mYXA3DS9Khci",
        "outputId": "d9a57c98-4c00-424e-9853-ad9fba3e8338"
      },
      "source": [
        "!apt-get -y install openjdk-8-jre-headless\n",
        "!pip install pyspark\n",
        "from pyspark.sql import SparkSession\n",
        "from pyspark import SparkContext\n",
        "spark = SparkSession.builder.master(\"local\").getOrCreate()\n",
        "sc = SparkContext.getOrCreate()"
      ],
      "execution_count": 1,
      "outputs": [
        {
          "output_type": "stream",
          "text": [
            "Reading package lists... Done\n",
            "Building dependency tree       \n",
            "Reading state information... Done\n",
            "Suggested packages:\n",
            "  libnss-mdns fonts-dejavu-extra fonts-ipafont-gothic fonts-ipafont-mincho\n",
            "  fonts-wqy-microhei fonts-wqy-zenhei fonts-indic\n",
            "The following NEW packages will be installed:\n",
            "  openjdk-8-jre-headless\n",
            "0 upgraded, 1 newly installed, 0 to remove and 14 not upgraded.\n",
            "Need to get 28.2 MB of archives.\n",
            "After this operation, 104 MB of additional disk space will be used.\n",
            "Get:1 http://archive.ubuntu.com/ubuntu bionic-updates/universe amd64 openjdk-8-jre-headless amd64 8u275-b01-0ubuntu1~18.04 [28.2 MB]\n",
            "Fetched 28.2 MB in 2s (16.2 MB/s)\n",
            "Selecting previously unselected package openjdk-8-jre-headless:amd64.\n",
            "(Reading database ... 144793 files and directories currently installed.)\n",
            "Preparing to unpack .../openjdk-8-jre-headless_8u275-b01-0ubuntu1~18.04_amd64.deb ...\n",
            "Unpacking openjdk-8-jre-headless:amd64 (8u275-b01-0ubuntu1~18.04) ...\n",
            "Setting up openjdk-8-jre-headless:amd64 (8u275-b01-0ubuntu1~18.04) ...\n",
            "update-alternatives: using /usr/lib/jvm/java-8-openjdk-amd64/jre/bin/orbd to provide /usr/bin/orbd (orbd) in auto mode\n",
            "update-alternatives: using /usr/lib/jvm/java-8-openjdk-amd64/jre/bin/servertool to provide /usr/bin/servertool (servertool) in auto mode\n",
            "update-alternatives: using /usr/lib/jvm/java-8-openjdk-amd64/jre/bin/tnameserv to provide /usr/bin/tnameserv (tnameserv) in auto mode\n",
            "Collecting pyspark\n",
            "\u001b[?25l  Downloading https://files.pythonhosted.org/packages/f0/26/198fc8c0b98580f617cb03cb298c6056587b8f0447e20fa40c5b634ced77/pyspark-3.0.1.tar.gz (204.2MB)\n",
            "\u001b[K     |████████████████████████████████| 204.2MB 61kB/s \n",
            "\u001b[?25hCollecting py4j==0.10.9\n",
            "\u001b[?25l  Downloading https://files.pythonhosted.org/packages/9e/b6/6a4fb90cd235dc8e265a6a2067f2a2c99f0d91787f06aca4bcf7c23f3f80/py4j-0.10.9-py2.py3-none-any.whl (198kB)\n",
            "\u001b[K     |████████████████████████████████| 204kB 44.4MB/s \n",
            "\u001b[?25hBuilding wheels for collected packages: pyspark\n",
            "  Building wheel for pyspark (setup.py) ... \u001b[?25l\u001b[?25hdone\n",
            "  Created wheel for pyspark: filename=pyspark-3.0.1-py2.py3-none-any.whl size=204612243 sha256=c88eeedb8ba3a04041bbcf9d8b91151cd21454780dd62c1abebc99e620d7de25\n",
            "  Stored in directory: /root/.cache/pip/wheels/5e/bd/07/031766ca628adec8435bb40f0bd83bb676ce65ff4007f8e73f\n",
            "Successfully built pyspark\n",
            "Installing collected packages: py4j, pyspark\n",
            "Successfully installed py4j-0.10.9 pyspark-3.0.1\n"
          ],
          "name": "stdout"
        }
      ]
    },
    {
      "cell_type": "code",
      "metadata": {
        "id": "3JJMFWgnLEV7"
      },
      "source": [
        "from pyspark.ml import Pipeline\n",
        "from pyspark.ml.linalg import Vectors\n",
        "from pyspark.ml.feature import FeatureHasher\n",
        "from pyspark.ml.classification import RandomForestClassifier\n",
        "from pyspark.ml.feature import *\n",
        "from pyspark.ml.evaluation import MulticlassClassificationEvaluator\n",
        "from pyspark.ml.evaluation import BinaryClassificationEvaluator\n",
        "from pyspark.ml.tuning import CrossValidator, ParamGridBuilder\n",
        "from pyspark.sql import Row\n",
        "from pyspark.sql.functions import *\n",
        "from pyspark.sql.types import *"
      ],
      "execution_count": 2,
      "outputs": []
    },
    {
      "cell_type": "code",
      "metadata": {
        "id": "gDsvmNqgPDXS"
      },
      "source": [
        "df_train = spark.read.csv(\"/content/sample_data/test.csv\",inferSchema=\"true\", header=\"true\")\n",
        "df_train = df_train.withColumnRenamed('TARGET','label')"
      ],
      "execution_count": 3,
      "outputs": []
    },
    {
      "cell_type": "code",
      "metadata": {
        "id": "kSjGzxs-PG2J"
      },
      "source": [
        "labelIndexer = StringIndexer(inputCol=\"label\", outputCol=\"indexedLabel\").fit(df_train)\n",
        "labeled = labelIndexer.transform(df_train)\n",
        "hasher = FeatureHasher(inputCols=[column for column in list(set(df_train.columns)) if column !='label'],outputCol=\"indexedFeatures\",numFeatures=len([column for column in list(set(df_train.columns)) if column !='label']))\n",
        "featurized = hasher.transform(df_train)"
      ],
      "execution_count": 5,
      "outputs": []
    },
    {
      "cell_type": "code",
      "metadata": {
        "id": "H4hHU0JnPIVl"
      },
      "source": [
        "# Split the data into training and test sets (30% held out for testing)\n",
        "trainingData, testData = df_train.randomSplit([0.7, 0.3])\n",
        "\n",
        "# Train a RandomForest model.\n",
        "rf = RandomForestClassifier(labelCol=\"indexedLabel\", featuresCol=\"indexedFeatures\", numTrees=10, maxDepth=5)\n",
        "\n",
        "# Chain indexers and forest in a Pipeline\n",
        "pipeline = Pipeline(stages=[labelIndexer, hasher, rf])"
      ],
      "execution_count": 6,
      "outputs": []
    },
    {
      "cell_type": "code",
      "metadata": {
        "id": "9RPO_vlsPN49",
        "colab": {
          "base_uri": "https://localhost:8080/",
          "height": 306
        },
        "outputId": "25faf02f-6f5e-470e-d158-de4f2e1d3b0e"
      },
      "source": [
        "model = pipeline.fit(trainingData)"
      ],
      "execution_count": 7,
      "outputs": [
        {
          "output_type": "error",
          "ename": "KeyboardInterrupt",
          "evalue": "ignored",
          "traceback": [
            "\u001b[0;31m---------------------------------------------------------------------------\u001b[0m",
            "\u001b[0;31mKeyboardInterrupt\u001b[0m                         Traceback (most recent call last)",
            "\u001b[0;32m<ipython-input-7-5d58c0b896ea>\u001b[0m in \u001b[0;36m<module>\u001b[0;34m()\u001b[0m\n\u001b[0;32m----> 1\u001b[0;31m \u001b[0mmodel\u001b[0m \u001b[0;34m=\u001b[0m \u001b[0mpipeline\u001b[0m\u001b[0;34m.\u001b[0m\u001b[0mfit\u001b[0m\u001b[0;34m(\u001b[0m\u001b[0mtrainingData\u001b[0m\u001b[0;34m)\u001b[0m\u001b[0;34m\u001b[0m\u001b[0;34m\u001b[0m\u001b[0m\n\u001b[0m",
            "\u001b[0;32m/usr/local/lib/python3.6/dist-packages/pyspark/ml/base.py\u001b[0m in \u001b[0;36mfit\u001b[0;34m(self, dataset, params)\u001b[0m\n\u001b[1;32m    127\u001b[0m                 \u001b[0;32mreturn\u001b[0m \u001b[0mself\u001b[0m\u001b[0;34m.\u001b[0m\u001b[0mcopy\u001b[0m\u001b[0;34m(\u001b[0m\u001b[0mparams\u001b[0m\u001b[0;34m)\u001b[0m\u001b[0;34m.\u001b[0m\u001b[0m_fit\u001b[0m\u001b[0;34m(\u001b[0m\u001b[0mdataset\u001b[0m\u001b[0;34m)\u001b[0m\u001b[0;34m\u001b[0m\u001b[0;34m\u001b[0m\u001b[0m\n\u001b[1;32m    128\u001b[0m             \u001b[0;32melse\u001b[0m\u001b[0;34m:\u001b[0m\u001b[0;34m\u001b[0m\u001b[0;34m\u001b[0m\u001b[0m\n\u001b[0;32m--> 129\u001b[0;31m                 \u001b[0;32mreturn\u001b[0m \u001b[0mself\u001b[0m\u001b[0;34m.\u001b[0m\u001b[0m_fit\u001b[0m\u001b[0;34m(\u001b[0m\u001b[0mdataset\u001b[0m\u001b[0;34m)\u001b[0m\u001b[0;34m\u001b[0m\u001b[0;34m\u001b[0m\u001b[0m\n\u001b[0m\u001b[1;32m    130\u001b[0m         \u001b[0;32melse\u001b[0m\u001b[0;34m:\u001b[0m\u001b[0;34m\u001b[0m\u001b[0;34m\u001b[0m\u001b[0m\n\u001b[1;32m    131\u001b[0m             raise ValueError(\"Params must be either a param map or a list/tuple of param maps, \"\n",
            "\u001b[0;32m/usr/local/lib/python3.6/dist-packages/pyspark/ml/pipeline.py\u001b[0m in \u001b[0;36m_fit\u001b[0;34m(self, dataset)\u001b[0m\n\u001b[1;32m    107\u001b[0m                     \u001b[0mdataset\u001b[0m \u001b[0;34m=\u001b[0m \u001b[0mstage\u001b[0m\u001b[0;34m.\u001b[0m\u001b[0mtransform\u001b[0m\u001b[0;34m(\u001b[0m\u001b[0mdataset\u001b[0m\u001b[0;34m)\u001b[0m\u001b[0;34m\u001b[0m\u001b[0;34m\u001b[0m\u001b[0m\n\u001b[1;32m    108\u001b[0m                 \u001b[0;32melse\u001b[0m\u001b[0;34m:\u001b[0m  \u001b[0;31m# must be an Estimator\u001b[0m\u001b[0;34m\u001b[0m\u001b[0;34m\u001b[0m\u001b[0m\n\u001b[0;32m--> 109\u001b[0;31m                     \u001b[0mmodel\u001b[0m \u001b[0;34m=\u001b[0m \u001b[0mstage\u001b[0m\u001b[0;34m.\u001b[0m\u001b[0mfit\u001b[0m\u001b[0;34m(\u001b[0m\u001b[0mdataset\u001b[0m\u001b[0;34m)\u001b[0m\u001b[0;34m\u001b[0m\u001b[0;34m\u001b[0m\u001b[0m\n\u001b[0m\u001b[1;32m    110\u001b[0m                     \u001b[0mtransformers\u001b[0m\u001b[0;34m.\u001b[0m\u001b[0mappend\u001b[0m\u001b[0;34m(\u001b[0m\u001b[0mmodel\u001b[0m\u001b[0;34m)\u001b[0m\u001b[0;34m\u001b[0m\u001b[0;34m\u001b[0m\u001b[0m\n\u001b[1;32m    111\u001b[0m                     \u001b[0;32mif\u001b[0m \u001b[0mi\u001b[0m \u001b[0;34m<\u001b[0m \u001b[0mindexOfLastEstimator\u001b[0m\u001b[0;34m:\u001b[0m\u001b[0;34m\u001b[0m\u001b[0;34m\u001b[0m\u001b[0m\n",
            "\u001b[0;32m/usr/local/lib/python3.6/dist-packages/pyspark/ml/base.py\u001b[0m in \u001b[0;36mfit\u001b[0;34m(self, dataset, params)\u001b[0m\n\u001b[1;32m    127\u001b[0m                 \u001b[0;32mreturn\u001b[0m \u001b[0mself\u001b[0m\u001b[0;34m.\u001b[0m\u001b[0mcopy\u001b[0m\u001b[0;34m(\u001b[0m\u001b[0mparams\u001b[0m\u001b[0;34m)\u001b[0m\u001b[0;34m.\u001b[0m\u001b[0m_fit\u001b[0m\u001b[0;34m(\u001b[0m\u001b[0mdataset\u001b[0m\u001b[0;34m)\u001b[0m\u001b[0;34m\u001b[0m\u001b[0;34m\u001b[0m\u001b[0m\n\u001b[1;32m    128\u001b[0m             \u001b[0;32melse\u001b[0m\u001b[0;34m:\u001b[0m\u001b[0;34m\u001b[0m\u001b[0;34m\u001b[0m\u001b[0m\n\u001b[0;32m--> 129\u001b[0;31m                 \u001b[0;32mreturn\u001b[0m \u001b[0mself\u001b[0m\u001b[0;34m.\u001b[0m\u001b[0m_fit\u001b[0m\u001b[0;34m(\u001b[0m\u001b[0mdataset\u001b[0m\u001b[0;34m)\u001b[0m\u001b[0;34m\u001b[0m\u001b[0;34m\u001b[0m\u001b[0m\n\u001b[0m\u001b[1;32m    130\u001b[0m         \u001b[0;32melse\u001b[0m\u001b[0;34m:\u001b[0m\u001b[0;34m\u001b[0m\u001b[0;34m\u001b[0m\u001b[0m\n\u001b[1;32m    131\u001b[0m             raise ValueError(\"Params must be either a param map or a list/tuple of param maps, \"\n",
            "\u001b[0;32m/usr/local/lib/python3.6/dist-packages/pyspark/ml/wrapper.py\u001b[0m in \u001b[0;36m_fit\u001b[0;34m(self, dataset)\u001b[0m\n\u001b[1;32m    319\u001b[0m \u001b[0;34m\u001b[0m\u001b[0m\n\u001b[1;32m    320\u001b[0m     \u001b[0;32mdef\u001b[0m \u001b[0m_fit\u001b[0m\u001b[0;34m(\u001b[0m\u001b[0mself\u001b[0m\u001b[0;34m,\u001b[0m \u001b[0mdataset\u001b[0m\u001b[0;34m)\u001b[0m\u001b[0;34m:\u001b[0m\u001b[0;34m\u001b[0m\u001b[0;34m\u001b[0m\u001b[0m\n\u001b[0;32m--> 321\u001b[0;31m         \u001b[0mjava_model\u001b[0m \u001b[0;34m=\u001b[0m \u001b[0mself\u001b[0m\u001b[0;34m.\u001b[0m\u001b[0m_fit_java\u001b[0m\u001b[0;34m(\u001b[0m\u001b[0mdataset\u001b[0m\u001b[0;34m)\u001b[0m\u001b[0;34m\u001b[0m\u001b[0;34m\u001b[0m\u001b[0m\n\u001b[0m\u001b[1;32m    322\u001b[0m         \u001b[0mmodel\u001b[0m \u001b[0;34m=\u001b[0m \u001b[0mself\u001b[0m\u001b[0;34m.\u001b[0m\u001b[0m_create_model\u001b[0m\u001b[0;34m(\u001b[0m\u001b[0mjava_model\u001b[0m\u001b[0;34m)\u001b[0m\u001b[0;34m\u001b[0m\u001b[0;34m\u001b[0m\u001b[0m\n\u001b[1;32m    323\u001b[0m         \u001b[0;32mreturn\u001b[0m \u001b[0mself\u001b[0m\u001b[0;34m.\u001b[0m\u001b[0m_copyValues\u001b[0m\u001b[0;34m(\u001b[0m\u001b[0mmodel\u001b[0m\u001b[0;34m)\u001b[0m\u001b[0;34m\u001b[0m\u001b[0;34m\u001b[0m\u001b[0m\n",
            "\u001b[0;32m/usr/local/lib/python3.6/dist-packages/pyspark/ml/wrapper.py\u001b[0m in \u001b[0;36m_fit_java\u001b[0;34m(self, dataset)\u001b[0m\n\u001b[1;32m    316\u001b[0m         \"\"\"\n\u001b[1;32m    317\u001b[0m         \u001b[0mself\u001b[0m\u001b[0;34m.\u001b[0m\u001b[0m_transfer_params_to_java\u001b[0m\u001b[0;34m(\u001b[0m\u001b[0;34m)\u001b[0m\u001b[0;34m\u001b[0m\u001b[0;34m\u001b[0m\u001b[0m\n\u001b[0;32m--> 318\u001b[0;31m         \u001b[0;32mreturn\u001b[0m \u001b[0mself\u001b[0m\u001b[0;34m.\u001b[0m\u001b[0m_java_obj\u001b[0m\u001b[0;34m.\u001b[0m\u001b[0mfit\u001b[0m\u001b[0;34m(\u001b[0m\u001b[0mdataset\u001b[0m\u001b[0;34m.\u001b[0m\u001b[0m_jdf\u001b[0m\u001b[0;34m)\u001b[0m\u001b[0;34m\u001b[0m\u001b[0;34m\u001b[0m\u001b[0m\n\u001b[0m\u001b[1;32m    319\u001b[0m \u001b[0;34m\u001b[0m\u001b[0m\n\u001b[1;32m    320\u001b[0m     \u001b[0;32mdef\u001b[0m \u001b[0m_fit\u001b[0m\u001b[0;34m(\u001b[0m\u001b[0mself\u001b[0m\u001b[0;34m,\u001b[0m \u001b[0mdataset\u001b[0m\u001b[0;34m)\u001b[0m\u001b[0;34m:\u001b[0m\u001b[0;34m\u001b[0m\u001b[0;34m\u001b[0m\u001b[0m\n",
            "\u001b[0;32m/usr/local/lib/python3.6/dist-packages/py4j/java_gateway.py\u001b[0m in \u001b[0;36m__call__\u001b[0;34m(self, *args)\u001b[0m\n\u001b[1;32m   1301\u001b[0m             \u001b[0mproto\u001b[0m\u001b[0;34m.\u001b[0m\u001b[0mEND_COMMAND_PART\u001b[0m\u001b[0;34m\u001b[0m\u001b[0;34m\u001b[0m\u001b[0m\n\u001b[1;32m   1302\u001b[0m \u001b[0;34m\u001b[0m\u001b[0m\n\u001b[0;32m-> 1303\u001b[0;31m         \u001b[0manswer\u001b[0m \u001b[0;34m=\u001b[0m \u001b[0mself\u001b[0m\u001b[0;34m.\u001b[0m\u001b[0mgateway_client\u001b[0m\u001b[0;34m.\u001b[0m\u001b[0msend_command\u001b[0m\u001b[0;34m(\u001b[0m\u001b[0mcommand\u001b[0m\u001b[0;34m)\u001b[0m\u001b[0;34m\u001b[0m\u001b[0;34m\u001b[0m\u001b[0m\n\u001b[0m\u001b[1;32m   1304\u001b[0m         return_value = get_return_value(\n\u001b[1;32m   1305\u001b[0m             answer, self.gateway_client, self.target_id, self.name)\n",
            "\u001b[0;32m/usr/local/lib/python3.6/dist-packages/py4j/java_gateway.py\u001b[0m in \u001b[0;36msend_command\u001b[0;34m(self, command, retry, binary)\u001b[0m\n\u001b[1;32m   1031\u001b[0m         \u001b[0mconnection\u001b[0m \u001b[0;34m=\u001b[0m \u001b[0mself\u001b[0m\u001b[0;34m.\u001b[0m\u001b[0m_get_connection\u001b[0m\u001b[0;34m(\u001b[0m\u001b[0;34m)\u001b[0m\u001b[0;34m\u001b[0m\u001b[0;34m\u001b[0m\u001b[0m\n\u001b[1;32m   1032\u001b[0m         \u001b[0;32mtry\u001b[0m\u001b[0;34m:\u001b[0m\u001b[0;34m\u001b[0m\u001b[0;34m\u001b[0m\u001b[0m\n\u001b[0;32m-> 1033\u001b[0;31m             \u001b[0mresponse\u001b[0m \u001b[0;34m=\u001b[0m \u001b[0mconnection\u001b[0m\u001b[0;34m.\u001b[0m\u001b[0msend_command\u001b[0m\u001b[0;34m(\u001b[0m\u001b[0mcommand\u001b[0m\u001b[0;34m)\u001b[0m\u001b[0;34m\u001b[0m\u001b[0;34m\u001b[0m\u001b[0m\n\u001b[0m\u001b[1;32m   1034\u001b[0m             \u001b[0;32mif\u001b[0m \u001b[0mbinary\u001b[0m\u001b[0;34m:\u001b[0m\u001b[0;34m\u001b[0m\u001b[0;34m\u001b[0m\u001b[0m\n\u001b[1;32m   1035\u001b[0m                 \u001b[0;32mreturn\u001b[0m \u001b[0mresponse\u001b[0m\u001b[0;34m,\u001b[0m \u001b[0mself\u001b[0m\u001b[0;34m.\u001b[0m\u001b[0m_create_connection_guard\u001b[0m\u001b[0;34m(\u001b[0m\u001b[0mconnection\u001b[0m\u001b[0;34m)\u001b[0m\u001b[0;34m\u001b[0m\u001b[0;34m\u001b[0m\u001b[0m\n",
            "\u001b[0;32m/usr/local/lib/python3.6/dist-packages/py4j/java_gateway.py\u001b[0m in \u001b[0;36msend_command\u001b[0;34m(self, command)\u001b[0m\n\u001b[1;32m   1198\u001b[0m \u001b[0;34m\u001b[0m\u001b[0m\n\u001b[1;32m   1199\u001b[0m         \u001b[0;32mtry\u001b[0m\u001b[0;34m:\u001b[0m\u001b[0;34m\u001b[0m\u001b[0;34m\u001b[0m\u001b[0m\n\u001b[0;32m-> 1200\u001b[0;31m             \u001b[0manswer\u001b[0m \u001b[0;34m=\u001b[0m \u001b[0msmart_decode\u001b[0m\u001b[0;34m(\u001b[0m\u001b[0mself\u001b[0m\u001b[0;34m.\u001b[0m\u001b[0mstream\u001b[0m\u001b[0;34m.\u001b[0m\u001b[0mreadline\u001b[0m\u001b[0;34m(\u001b[0m\u001b[0;34m)\u001b[0m\u001b[0;34m[\u001b[0m\u001b[0;34m:\u001b[0m\u001b[0;34m-\u001b[0m\u001b[0;36m1\u001b[0m\u001b[0;34m]\u001b[0m\u001b[0;34m)\u001b[0m\u001b[0;34m\u001b[0m\u001b[0;34m\u001b[0m\u001b[0m\n\u001b[0m\u001b[1;32m   1201\u001b[0m             \u001b[0mlogger\u001b[0m\u001b[0;34m.\u001b[0m\u001b[0mdebug\u001b[0m\u001b[0;34m(\u001b[0m\u001b[0;34m\"Answer received: {0}\"\u001b[0m\u001b[0;34m.\u001b[0m\u001b[0mformat\u001b[0m\u001b[0;34m(\u001b[0m\u001b[0manswer\u001b[0m\u001b[0;34m)\u001b[0m\u001b[0;34m)\u001b[0m\u001b[0;34m\u001b[0m\u001b[0;34m\u001b[0m\u001b[0m\n\u001b[1;32m   1202\u001b[0m             \u001b[0;32mif\u001b[0m \u001b[0manswer\u001b[0m\u001b[0;34m.\u001b[0m\u001b[0mstartswith\u001b[0m\u001b[0;34m(\u001b[0m\u001b[0mproto\u001b[0m\u001b[0;34m.\u001b[0m\u001b[0mRETURN_MESSAGE\u001b[0m\u001b[0;34m)\u001b[0m\u001b[0;34m:\u001b[0m\u001b[0;34m\u001b[0m\u001b[0;34m\u001b[0m\u001b[0m\n",
            "\u001b[0;32m/usr/lib/python3.6/socket.py\u001b[0m in \u001b[0;36mreadinto\u001b[0;34m(self, b)\u001b[0m\n\u001b[1;32m    584\u001b[0m         \u001b[0;32mwhile\u001b[0m \u001b[0;32mTrue\u001b[0m\u001b[0;34m:\u001b[0m\u001b[0;34m\u001b[0m\u001b[0;34m\u001b[0m\u001b[0m\n\u001b[1;32m    585\u001b[0m             \u001b[0;32mtry\u001b[0m\u001b[0;34m:\u001b[0m\u001b[0;34m\u001b[0m\u001b[0;34m\u001b[0m\u001b[0m\n\u001b[0;32m--> 586\u001b[0;31m                 \u001b[0;32mreturn\u001b[0m \u001b[0mself\u001b[0m\u001b[0;34m.\u001b[0m\u001b[0m_sock\u001b[0m\u001b[0;34m.\u001b[0m\u001b[0mrecv_into\u001b[0m\u001b[0;34m(\u001b[0m\u001b[0mb\u001b[0m\u001b[0;34m)\u001b[0m\u001b[0;34m\u001b[0m\u001b[0;34m\u001b[0m\u001b[0m\n\u001b[0m\u001b[1;32m    587\u001b[0m             \u001b[0;32mexcept\u001b[0m \u001b[0mtimeout\u001b[0m\u001b[0;34m:\u001b[0m\u001b[0;34m\u001b[0m\u001b[0;34m\u001b[0m\u001b[0m\n\u001b[1;32m    588\u001b[0m                 \u001b[0mself\u001b[0m\u001b[0;34m.\u001b[0m\u001b[0m_timeout_occurred\u001b[0m \u001b[0;34m=\u001b[0m \u001b[0;32mTrue\u001b[0m\u001b[0;34m\u001b[0m\u001b[0;34m\u001b[0m\u001b[0m\n",
            "\u001b[0;31mKeyboardInterrupt\u001b[0m: "
          ]
        }
      ]
    },
    {
      "cell_type": "code",
      "metadata": {
        "id": "K06YbrPNPPHO"
      },
      "source": [
        "predictions = model.transform(trainingData)"
      ],
      "execution_count": null,
      "outputs": []
    },
    {
      "cell_type": "code",
      "metadata": {
        "colab": {
          "base_uri": "https://localhost:8080/"
        },
        "id": "vP_GUrOiPQ2K",
        "outputId": "b045d7ff-8156-44cd-ddea-4a888a5de24a"
      },
      "source": [
        "evaluator = BinaryClassificationEvaluator(\n",
        "    labelCol=\"indexedLabel\", rawPredictionCol=\"prediction\", metricName=\"areaUnderROC\")\n",
        "auc = evaluator.evaluate(predictions)\n",
        "print(\"auc = \" +str(auc))\n",
        "\n",
        "# test data \n",
        "# auc = 0.9644788386204777 (numfeature = 20)(numTrees = 100)\n",
        "# auc = 0.9714285714285714 (numfeature = 30)(numTrees = 100)\n",
        "# auc = 0.969568670576735 (numfeature = 50)(numTrees = 100)\n",
        "# auc = 0.9550669216061186 (numfeature = 20)(numTrees = 100)\n",
        "# auc = 0.9751381215469613 (numfeature = 30)(numTrees = 10)\n",
        "# auc = 0.9618418877593191 (numfeature = 50)(numTrees = 10)\n",
        "# training data\n",
        "# auc = 0.9643255295429208 (numfeature = 20)(numTrees = 100)\n",
        "# auc = 0.967504494420135 (numfeature = 30)(numTrees = 100)\n",
        "# auc = 0.9557507980757171 (numfeature = 50)(numTrees = 100)\n",
        "# auc = 0.9647058823529412 (numfeature = 20)(numTrees = 10)\n",
        "# auc = 0.9621684867394696 (numfeature = 30)(numTrees = 10)\n",
        "# auc = 0.9586225104019261 (numfeature = 50)(numTrees = 10)"
      ],
      "execution_count": null,
      "outputs": [
        {
          "output_type": "stream",
          "text": [
            "auc = 0.9124202165806081\n"
          ],
          "name": "stdout"
        }
      ]
    },
    {
      "cell_type": "code",
      "metadata": {
        "id": "EpNprqmbbs-K"
      },
      "source": [
        "import numpy as np\n",
        "paramGrid = ParamGridBuilder() \\\n",
        "    .addGrid(rf.numTrees, [int(x) for x in np.linspace(start = 10, stop = 50, num = 3)]) \\\n",
        "    .addGrid(rf.maxDepth, [int(x) for x in np.linspace(start = 5, stop = 25, num = 3)]) \\\n",
        "    .build()\n",
        "\n",
        "crossval = CrossValidator(estimator=pipeline,\n",
        "                          estimatorParamMaps=paramGrid,\n",
        "                          evaluator=BinaryClassificationEvaluator(),\n",
        "                          numFolds=3,\n",
        "                          seed = 1234)  # use 3+ folds in practice"
      ],
      "execution_count": null,
      "outputs": []
    },
    {
      "cell_type": "code",
      "metadata": {
        "id": "M9X1ABQWrmin"
      },
      "source": [
        "cvModel = crossval.fit(df_train)"
      ],
      "execution_count": null,
      "outputs": []
    },
    {
      "cell_type": "code",
      "metadata": {
        "id": "bf9Jd40TsOxU"
      },
      "source": [
        "predictionsDf = cvModel.transform(df_train)"
      ],
      "execution_count": null,
      "outputs": []
    },
    {
      "cell_type": "code",
      "metadata": {
        "colab": {
          "base_uri": "https://localhost:8080/"
        },
        "id": "qjjfv7MdsXqP",
        "outputId": "775db11d-b040-424d-a7b7-ac5e1cbe5152"
      },
      "source": [
        "evaluator = BinaryClassificationEvaluator(\n",
        "    labelCol=\"indexedLabel\", rawPredictionCol=\"prediction\", metricName=\"areaUnderROC\")\n",
        "auc = evaluator.evaluate(predictionsDf)\n",
        "print(\"auc = \" +str(auc))"
      ],
      "execution_count": null,
      "outputs": [
        {
          "output_type": "stream",
          "text": [
            "auc = 0.5\n"
          ],
          "name": "stdout"
        }
      ]
    },
    {
      "cell_type": "code",
      "metadata": {
        "colab": {
          "base_uri": "https://localhost:8080/",
          "height": 479
        },
        "id": "U9hIkVEZsLan",
        "outputId": "0fdd058d-2073-4e67-d7bb-3562f33aba1b"
      },
      "source": [
        "import matplotlib.pyplot as plt\n",
        "bestPipeline = cvModel.bestModel\n",
        "bestModel = bestPipeline.stages[2]\n",
        "\n",
        "feature_list = []\n",
        "for col in df_train.columns:\n",
        "    if col == 'label':\n",
        "        continue\n",
        "    else:\n",
        "        feature_list.append(col)\n",
        "\n",
        "importances = bestModel.featureImportances\n",
        "\n",
        "x_values = list(range(len(importances)))\n",
        "\n",
        "plt.bar(x_values, importances, orientation = 'vertical')\n",
        "plt.xticks(x_values, feature_list, rotation=90)\n",
        "plt.ylabel('Importance')\n",
        "plt.xlabel('Feature')\n",
        "plt.title('Feature Importances')\n",
        "\n",
        "\n",
        "print('numTrees - ', bestModel.getNumTrees)\n",
        "print('maxDepth - ', bestModel.getOrDefault('maxDepth'))"
      ],
      "execution_count": null,
      "outputs": [
        {
          "output_type": "stream",
          "text": [
            "numTrees -  10\n",
            "maxDepth -  25\n"
          ],
          "name": "stdout"
        },
        {
          "output_type": "display_data",
          "data": {
            "image/png": "[encoded data removed]",
            "text/plain": [
              "<Figure size 432x288 with 1 Axes>"
            ]
          },
          "metadata": {
            "tags": [],
            "needs_background": "light"
          }
        }
      ]
    },
    {
      "cell_type": "markdown",
      "metadata": {
        "id": "RSemHhw-AN8r"
      },
      "source": [
        "Logistic Regression"
      ]
    },
    {
      "cell_type": "code",
      "metadata": {
        "id": "5P9f7fBpAMqJ"
      },
      "source": [
        "from pyspark.ml.classification import LogisticRegression\n",
        "\n",
        "\n",
        "lr = LogisticRegression(labelCol=\"indexedLabel\", featuresCol=\"indexedFeatures\",maxIter=5, regParam=0.03)\n",
        "pipeline = Pipeline(stages=[labelIndexer, hasher, lr])\n",
        "lrModel = pipeline.fit(trainingData)\n",
        "predictions = lrModel.transform(trainingData)"
      ],
      "execution_count": null,
      "outputs": []
    },
    {
      "cell_type": "code",
      "metadata": {
        "colab": {
          "base_uri": "https://localhost:8080/"
        },
        "id": "81SSC8Z-CX8x",
        "outputId": "c8b13cd9-27cd-4f7f-acd4-41b0eeff2da1"
      },
      "source": [
        "evaluator = BinaryClassificationEvaluator(\n",
        "    labelCol=\"indexedLabel\", rawPredictionCol=\"prediction\", metricName=\"areaUnderROC\")\n",
        "auc = evaluator.evaluate(predictions)\n",
        "print(\"auc = \" +str(auc))\n"
      ],
      "execution_count": null,
      "outputs": [
        {
          "output_type": "stream",
          "text": [
            "auc = 0.6762603987378084\n"
          ],
          "name": "stdout"
        }
      ]
    },
    {
      "cell_type": "markdown",
      "metadata": {
        "id": "GvCbv8_iCnNc"
      },
      "source": [
        "optimize"
      ]
    },
    {
      "cell_type": "code",
      "metadata": {
        "id": "4bFmTSimCp4x"
      },
      "source": [
        "paramGrid = ParamGridBuilder() \\\n",
        "    .addGrid(lr.maxIter, [int(x) for x in np.linspace(start = 5, stop = 20, num = 3)]) \\\n",
        "    .addGrid(lr.regParam, [x for x in np.linspace(start = 0.01, stop = 0.5, num = 3)]) \\\n",
        "    .build()\n",
        "\n",
        "crossval = CrossValidator(estimator=pipeline,\n",
        "              estimatorParamMaps=paramGrid,\n",
        "              evaluator=BinaryClassificationEvaluator(),\n",
        "              numFolds=3,\n",
        "              seed = 1234)"
      ],
      "execution_count": null,
      "outputs": []
    },
    {
      "cell_type": "code",
      "metadata": {
        "colab": {
          "base_uri": "https://localhost:8080/"
        },
        "id": "oSLPFAs4DCoc",
        "outputId": "f91dc6b2-9f24-4f10-9d71-8be7f9cd39c1"
      },
      "source": [
        "cvModel = crossval.fit(df_train)\n",
        "predictionsDf = cvModel.transform(df_train)\n",
        "evaluator = BinaryClassificationEvaluator(labelCol=\"indexedLabel\", rawPredictionCol=\"prediction\", metricName=\"areaUnderROC\")\n",
        "auc = evaluator.evaluate(predictionsDf)\n",
        "print(\"auc = \" +str(auc))"
      ],
      "execution_count": null,
      "outputs": [
        {
          "output_type": "stream",
          "text": [
            "auc = 0.7885597548518897\n"
          ],
          "name": "stdout"
        }
      ]
    },
    {
      "cell_type": "code",
      "metadata": {
        "colab": {
          "base_uri": "https://localhost:8080/"
        },
        "id": "dzhttzKYDlXw",
        "outputId": "6d77d611-b2ae-41f5-a55f-3382fc1aee54"
      },
      "source": [
        "import matplotlib.pyplot as plt\n",
        "bestPipeline = cvModel.bestModel\n",
        "bestModel = bestPipeline.stages[2]\n",
        "print('maxIter - ', bestModel.getOrDefault('maxIter'))\n",
        "print('regParam - {:1.15f}'.format(bestModel.getOrDefault('regParam')))"
      ],
      "execution_count": null,
      "outputs": [
        {
          "output_type": "stream",
          "text": [
            "maxIter -  20\n",
            "regParam - 0.255000000000000\n"
          ],
          "name": "stdout"
        }
      ]
    },
    {
      "cell_type": "code",
      "metadata": {
        "id": "jjJRDrLRFb6M"
      },
      "source": [
        "feature_list = []\n",
        "for col in df_train.columns:\n",
        "    if col == 'label':\n",
        "        continue\n",
        "    else:\n",
        "        feature_list.append(col)\n",
        "\n",
        "weights = bestModel.coefficients\n",
        "weight = [float(w) for w in weights]"
      ],
      "execution_count": null,
      "outputs": []
    },
    {
      "cell_type": "code",
      "metadata": {
        "id": "9rPjVA20Fe3w"
      },
      "source": [
        "import pandas as pd\n",
        "weight_df = pd.DataFrame(list(zip(feature_list,weight)))\n",
        "weight_df[1] = weight_df[1].apply(lambda x: '%.10f' % x)"
      ],
      "execution_count": null,
      "outputs": []
    },
    {
      "cell_type": "code",
      "metadata": {
        "colab": {
          "base_uri": "https://localhost:8080/",
          "height": 639
        },
        "id": "GsIjA6qAGbHl",
        "outputId": "61530683-a6e8-4c3b-a94f-d4d9cef8011f"
      },
      "source": [
        "weight_df"
      ],
      "execution_count": null,
      "outputs": [
        {
          "output_type": "execute_result",
          "data": {
            "text/html": [
              "<div>\n",
              "<style scoped>\n",
              "    .dataframe tbody tr th:only-of-type {\n",
              "        vertical-align: middle;\n",
              "    }\n",
              "\n",
              "    .dataframe tbody tr th {\n",
              "        vertical-align: top;\n",
              "    }\n",
              "\n",
              "    .dataframe thead th {\n",
              "        text-align: right;\n",
              "    }\n",
              "</style>\n",
              "<table border=\"1\" class=\"dataframe\">\n",
              "  <thead>\n",
              "    <tr style=\"text-align: right;\">\n",
              "      <th></th>\n",
              "      <th>0</th>\n",
              "      <th>1</th>\n",
              "    </tr>\n",
              "  </thead>\n",
              "  <tbody>\n",
              "    <tr>\n",
              "      <th>0</th>\n",
              "      <td>SK_ID_CURR</td>\n",
              "      <td>0.0999466072</td>\n",
              "    </tr>\n",
              "    <tr>\n",
              "      <th>1</th>\n",
              "      <td>NAME_CONTRACT_TYPE</td>\n",
              "      <td>0.0000011429</td>\n",
              "    </tr>\n",
              "    <tr>\n",
              "      <th>2</th>\n",
              "      <td>CODE_GENDER</td>\n",
              "      <td>0.0000228074</td>\n",
              "    </tr>\n",
              "    <tr>\n",
              "      <th>3</th>\n",
              "      <td>FLAG_OWN_CAR</td>\n",
              "      <td>0.0000956770</td>\n",
              "    </tr>\n",
              "    <tr>\n",
              "      <th>4</th>\n",
              "      <td>FLAG_OWN_REALTY</td>\n",
              "      <td>0.0000000000</td>\n",
              "    </tr>\n",
              "    <tr>\n",
              "      <th>5</th>\n",
              "      <td>CNT_CHILDREN</td>\n",
              "      <td>-0.0338893722</td>\n",
              "    </tr>\n",
              "    <tr>\n",
              "      <th>6</th>\n",
              "      <td>AMT_INCOME_TOTAL</td>\n",
              "      <td>-0.0000002203</td>\n",
              "    </tr>\n",
              "    <tr>\n",
              "      <th>7</th>\n",
              "      <td>AMT_CREDIT</td>\n",
              "      <td>-0.1057199164</td>\n",
              "    </tr>\n",
              "    <tr>\n",
              "      <th>8</th>\n",
              "      <td>AMT_ANNUITY</td>\n",
              "      <td>-0.0254591270</td>\n",
              "    </tr>\n",
              "    <tr>\n",
              "      <th>9</th>\n",
              "      <td>AMT_GOODS_PRICE</td>\n",
              "      <td>-0.2264776163</td>\n",
              "    </tr>\n",
              "    <tr>\n",
              "      <th>10</th>\n",
              "      <td>NAME_TYPE_SUITE</td>\n",
              "      <td>0.0784244618</td>\n",
              "    </tr>\n",
              "    <tr>\n",
              "      <th>11</th>\n",
              "      <td>NAME_INCOME_TYPE</td>\n",
              "      <td>0.0015625271</td>\n",
              "    </tr>\n",
              "    <tr>\n",
              "      <th>12</th>\n",
              "      <td>NAME_EDUCATION_TYPE</td>\n",
              "      <td>-0.0000000802</td>\n",
              "    </tr>\n",
              "    <tr>\n",
              "      <th>13</th>\n",
              "      <td>NAME_FAMILY_STATUS</td>\n",
              "      <td>-0.0000001381</td>\n",
              "    </tr>\n",
              "    <tr>\n",
              "      <th>14</th>\n",
              "      <td>NAME_HOUSING_TYPE</td>\n",
              "      <td>0.0000000074</td>\n",
              "    </tr>\n",
              "    <tr>\n",
              "      <th>15</th>\n",
              "      <td>REGION_POPULATION_RELATIVE</td>\n",
              "      <td>-0.7523820429</td>\n",
              "    </tr>\n",
              "    <tr>\n",
              "      <th>16</th>\n",
              "      <td>DAYS_BIRTH</td>\n",
              "      <td>0.0000157846</td>\n",
              "    </tr>\n",
              "    <tr>\n",
              "      <th>17</th>\n",
              "      <td>DAYS_EMPLOYED</td>\n",
              "      <td>0.0255990900</td>\n",
              "    </tr>\n",
              "    <tr>\n",
              "      <th>18</th>\n",
              "      <td>DAYS_REGISTRATION</td>\n",
              "      <td>0.1472480208</td>\n",
              "    </tr>\n",
              "    <tr>\n",
              "      <th>19</th>\n",
              "      <td>DAYS_ID_PUBLISH</td>\n",
              "      <td>0.0858563327</td>\n",
              "    </tr>\n",
              "  </tbody>\n",
              "</table>\n",
              "</div>"
            ],
            "text/plain": [
              "                             0              1\n",
              "0                   SK_ID_CURR   0.0999466072\n",
              "1           NAME_CONTRACT_TYPE   0.0000011429\n",
              "2                  CODE_GENDER   0.0000228074\n",
              "3                 FLAG_OWN_CAR   0.0000956770\n",
              "4              FLAG_OWN_REALTY   0.0000000000\n",
              "5                 CNT_CHILDREN  -0.0338893722\n",
              "6             AMT_INCOME_TOTAL  -0.0000002203\n",
              "7                   AMT_CREDIT  -0.1057199164\n",
              "8                  AMT_ANNUITY  -0.0254591270\n",
              "9              AMT_GOODS_PRICE  -0.2264776163\n",
              "10             NAME_TYPE_SUITE   0.0784244618\n",
              "11            NAME_INCOME_TYPE   0.0015625271\n",
              "12         NAME_EDUCATION_TYPE  -0.0000000802\n",
              "13          NAME_FAMILY_STATUS  -0.0000001381\n",
              "14           NAME_HOUSING_TYPE   0.0000000074\n",
              "15  REGION_POPULATION_RELATIVE  -0.7523820429\n",
              "16                  DAYS_BIRTH   0.0000157846\n",
              "17               DAYS_EMPLOYED   0.0255990900\n",
              "18           DAYS_REGISTRATION   0.1472480208\n",
              "19             DAYS_ID_PUBLISH   0.0858563327"
            ]
          },
          "metadata": {
            "tags": []
          },
          "execution_count": 84
        }
      ]
    },
    {
      "cell_type": "markdown",
      "metadata": {
        "id": "D59rvLYFd8D5"
      },
      "source": [
        "Gradient Tree boosting"
      ]
    },
    {
      "cell_type": "code",
      "metadata": {
        "id": "uk5VK9iYFeDk"
      },
      "source": [
        "from pyspark.ml.classification import GBTClassifier\n",
        "\n",
        "gbt = GBTClassifier(labelCol=\"indexedLabel\", featuresCol=\"indexedFeatures\", maxIter=10)\n",
        "pipeline = Pipeline(stages=[labelIndexer, hasher, gbt])\n",
        "model = pipeline.fit(trainingData)\n",
        "predictions = model.transform(testData)"
      ],
      "execution_count": 25,
      "outputs": []
    },
    {
      "cell_type": "code",
      "metadata": {
        "colab": {
          "base_uri": "https://localhost:8080/"
        },
        "id": "gNw_2t8LeEdl",
        "outputId": "51d62e1e-283e-42d9-aca0-e490a95978a9"
      },
      "source": [
        "evaluator = BinaryClassificationEvaluator(\n",
        "    labelCol=\"indexedLabel\", rawPredictionCol=\"prediction\", metricName=\"areaUnderROC\")\n",
        "auc = evaluator.evaluate(predictions)\n",
        "print(\"auc = \" +str(auc))\n"
      ],
      "execution_count": 26,
      "outputs": [
        {
          "output_type": "stream",
          "text": [
            "auc = 0.9539210461762293\n"
          ],
          "name": "stdout"
        }
      ]
    },
    {
      "cell_type": "markdown",
      "metadata": {
        "id": "mQNQweAJeMxA"
      },
      "source": [
        "Optimize"
      ]
    },
    {
      "cell_type": "code",
      "metadata": {
        "id": "C44Ekak7eMWl"
      },
      "source": [
        "import numpy as np\n",
        "paramGrid = ParamGridBuilder() \\\n",
        "    .addGrid(gbt.maxDepth, [int(x) for x in np.linspace(start = 10, stop = 30, num = 3)]) \\\n",
        "    .addGrid(gbt.maxIter, [x for x in np.linspace(start = 5, stop = 15, num = 3)]) \\\n",
        "    .build()\n",
        "\n",
        "crossval = CrossValidator(estimator=pipeline,\n",
        "              estimatorParamMaps=paramGrid,\n",
        "              evaluator=BinaryClassificationEvaluator(),\n",
        "              numFolds=3,\n",
        "              seed = 1234)"
      ],
      "execution_count": 27,
      "outputs": []
    },
    {
      "cell_type": "code",
      "metadata": {
        "colab": {
          "base_uri": "https://localhost:8080/"
        },
        "id": "AQwOBqpPfgnE",
        "outputId": "a78016ea-254d-4d33-a677-e7a6ed09a0e0"
      },
      "source": [
        "cvModel = crossval.fit(df_train)\n",
        "predictionsDf = cvModel.transform(df_train)\n",
        "evaluator = BinaryClassificationEvaluator(labelCol=\"indexedLabel\", rawPredictionCol=\"prediction\", metricName=\"areaUnderROC\",)\n",
        "auc = evaluator.evaluate(predictionsDf)\n",
        "print(\"auc = \" +str(auc))"
      ],
      "execution_count": 28,
      "outputs": [
        {
          "output_type": "stream",
          "text": [
            "auc = 0.9863638030312217\n"
          ],
          "name": "stdout"
        }
      ]
    },
    {
      "cell_type": "code",
      "metadata": {
        "colab": {
          "base_uri": "https://localhost:8080/"
        },
        "id": "YUiXXM2FfggH",
        "outputId": "c0903154-cdf9-427a-ad9e-da60ea675ed7"
      },
      "source": [
        "bestPipeline = cvModel.bestModel\n",
        "bestModel = bestPipeline.stages[2]\n",
        "print('maxDepth - ', bestModel.getOrDefault('maxDepth'))\n",
        "print('maxIter - ',bestModel.getOrDefault('maxIter'))"
      ],
      "execution_count": 29,
      "outputs": [
        {
          "output_type": "stream",
          "text": [
            "maxDepth -  10\n",
            "maxIter -  5\n"
          ],
          "name": "stdout"
        }
      ]
    },
    {
      "cell_type": "code",
      "metadata": {
        "colab": {
          "base_uri": "https://localhost:8080/",
          "height": 461
        },
        "id": "fmvxQW6EhfDL",
        "outputId": "16d11015-6abc-4f63-9d2c-c7a62f605f2b"
      },
      "source": [
        "import matplotlib.pyplot as plt\n",
        "bestPipeline = cvModel.bestModel\n",
        "bestModel = bestPipeline.stages[2]\n",
        "\n",
        "feature_list = []\n",
        "for col in df_train.columns:\n",
        "    if col == 'label':\n",
        "        continue\n",
        "    else:\n",
        "        feature_list.append(col)\n",
        "\n",
        "importances = bestModel.featureImportances\n",
        "\n",
        "x_values = list(range(len(importances)))\n",
        "\n",
        "plt.bar(x_values, importances, orientation = 'vertical')\n",
        "plt.xticks(x_values, feature_list, rotation=90)\n",
        "plt.ylabel('Importance')\n",
        "plt.xlabel('Feature')\n",
        "plt.title('Feature Importances')"
      ],
      "execution_count": 30,
      "outputs": [
        {
          "output_type": "execute_result",
          "data": {
            "text/plain": [
              "Text(0.5, 1.0, 'Feature Importances')"
            ]
          },
          "metadata": {
            "tags": []
          },
          "execution_count": 30
        },
        {
          "output_type": "display_data",
          "data": {
            "image/png": "[encoded data removed]",
            "text/plain": [
              "<Figure size 432x288 with 1 Axes>"
            ]
          },
          "metadata": {
            "tags": [],
            "needs_background": "light"
          }
        }
      ]
    },
    {
      "cell_type": "markdown",
      "metadata": {
        "id": "oWr7Sa5fjjHN"
      },
      "source": [
        "ensemble the models - weighted voting"
      ]
    },
    {
      "cell_type": "markdown",
      "metadata": {
        "id": "yW5iI8yEj6h1"
      },
      "source": [
        "Models with optimized parameters"
      ]
    },
    {
      "cell_type": "markdown",
      "metadata": {
        "id": "kpLXmGBwkDi3"
      },
      "source": [
        "general"
      ]
    },
    {
      "cell_type": "code",
      "metadata": {
        "id": "q7OYONZMjqHL"
      },
      "source": [
        "from pyspark.ml import Pipeline\n",
        "from pyspark.ml.linalg import Vectors\n",
        "from pyspark.ml.feature import FeatureHasher\n",
        "from pyspark.ml.classification import RandomForestClassifier\n",
        "from pyspark.ml.feature import *\n",
        "from pyspark.ml.evaluation import MulticlassClassificationEvaluator\n",
        "from pyspark.ml.evaluation import BinaryClassificationEvaluator\n",
        "from pyspark.ml.tuning import CrossValidator, ParamGridBuilder\n",
        "from pyspark.sql import Row\n",
        "from pyspark.sql.functions import *\n",
        "from pyspark.sql.types import *\n",
        "import matplotlib.pyplot as plt\n",
        "import numpy as np\n",
        "from pyspark.ml.classification import LogisticRegression\n",
        "from pyspark.ml.classification import GBTClassifier"
      ],
      "execution_count": 31,
      "outputs": []
    },
    {
      "cell_type": "code",
      "metadata": {
        "id": "qfzp9chvj6Hp"
      },
      "source": [
        "df_train = spark.read.csv(\"/content/sample_data/test.csv\",inferSchema=\"true\", header=\"true\")\n",
        "df_train = df_train.withColumnRenamed('TARGET','label')\n",
        "labelIndexer = StringIndexer(inputCol=\"label\", outputCol=\"indexedLabel\").fit(df_train)\n",
        "labeled = labelIndexer.transform(df_train)\n",
        "hasher = FeatureHasher(inputCols=[column for column in list(set(df_train.columns)) if column !='label'],outputCol=\"indexedFeatures\",numFeatures=len([column for column in list(set(df_train.columns)) if column !='label']))\n",
        "featurized = hasher.transform(df_train)"
      ],
      "execution_count": 32,
      "outputs": []
    },
    {
      "cell_type": "markdown",
      "metadata": {
        "id": "apaJXyZfkr3K"
      },
      "source": [
        "RF"
      ]
    },
    {
      "cell_type": "code",
      "metadata": {
        "id": "3frJF4prkstb"
      },
      "source": [
        "rf = RandomForestClassifier(labelCol=\"indexedLabel\", featuresCol=\"indexedFeatures\", numTrees = 10, maxDepth = 25)\n",
        "pipeline_rf = Pipeline(stages=[labelIndexer, hasher, rf])\n",
        "model_rf = pipeline_rf.fit(trainingData)\n",
        "predictions_rf = model_rf.transform(testData)"
      ],
      "execution_count": 33,
      "outputs": []
    },
    {
      "cell_type": "markdown",
      "metadata": {
        "id": "lj7V0vFJlt8z"
      },
      "source": [
        "LR"
      ]
    },
    {
      "cell_type": "code",
      "metadata": {
        "id": "jvQ3cpRXltzn"
      },
      "source": [
        "lr = LogisticRegression(labelCol=\"indexedLabel\", featuresCol=\"indexedFeatures\",maxIter = 20, regParam = 0.0255)\n",
        "pipeline_lr = Pipeline(stages=[labelIndexer, hasher, lr])\n",
        "model_lr = pipeline_lr.fit(trainingData)\n",
        "predictions_lr = model_lr.transform(testData)"
      ],
      "execution_count": 34,
      "outputs": []
    },
    {
      "cell_type": "markdown",
      "metadata": {
        "id": "2UWGeoANlvgB"
      },
      "source": [
        "GBT"
      ]
    },
    {
      "cell_type": "code",
      "metadata": {
        "id": "m6PN6KVtltnQ"
      },
      "source": [
        "gbt = GBTClassifier(labelCol=\"indexedLabel\", featuresCol=\"indexedFeatures\", maxIter = 10, maxDepth = 5)\n",
        "pipeline_gbt = Pipeline(stages=[labelIndexer, hasher, gbt])\n",
        "model_gbt = pipeline_gbt.fit(trainingData)\n",
        "predictions_gbt = model_gbt.transform(testData)"
      ],
      "execution_count": 35,
      "outputs": []
    },
    {
      "cell_type": "markdown",
      "metadata": {
        "id": "XLFVf6OGmuVN"
      },
      "source": [
        "Weighting"
      ]
    },
    {
      "cell_type": "code",
      "metadata": {
        "id": "jGChDz02myZz"
      },
      "source": [
        "w_0 = [1/3,1/3,1/3]\n",
        "w_1 = [0.2, 0.2, 0.6]\n",
        "w_2 = [0.6, 0.2, 0.2]\n",
        "w_3 = [0.2, 0.6, 0.2]\n",
        "w_4 = [0.7, 0.1, 0.2]"
      ],
      "execution_count": 164,
      "outputs": []
    },
    {
      "cell_type": "markdown",
      "metadata": {
        "id": "uYoaNRCfnbSK"
      },
      "source": [
        "Ensemble the model"
      ]
    },
    {
      "cell_type": "code",
      "metadata": {
        "colab": {
          "base_uri": "https://localhost:8080/"
        },
        "id": "ZVbF1HXqnaMN",
        "outputId": "e76e2dd9-9f78-4d1a-c9dc-edec8520384f"
      },
      "source": [
        "evaluator = BinaryClassificationEvaluator(labelCol=\"indexedLabel\", rawPredictionCol=\"prediction\", metricName=\"areaUnderROC\")\n",
        "auc_rf = evaluator.evaluate(predictions_rf)\n",
        "auc_lr = evaluator.evaluate(predictions_lr)\n",
        "auc_gbt = evaluator.evaluate(predictions_gbt)\n",
        "print(\"auc = \" +str(auc_rf))\n",
        "print(\"auc = \" +str(auc_lr))\n",
        "print(\"auc = \" +str(auc_gbt))\n",
        "\n",
        "# auc = 0.9485476353608919\n",
        "# auc = 0.9053784860557769\n",
        "# auc = 0.9539210461762293"
      ],
      "execution_count": 41,
      "outputs": [
        {
          "output_type": "stream",
          "text": [
            "auc = 0.9485476353608919\n",
            "auc = 0.9053784860557769\n",
            "auc = 0.9539210461762293\n"
          ],
          "name": "stdout"
        }
      ]
    },
    {
      "cell_type": "code",
      "metadata": {
        "id": "x2aZo6luoNko"
      },
      "source": [
        "# to pd df to do weighting computation\n",
        "rf_pd = predictions_rf.toPandas()\n",
        "lr_pd = predictions_lr.toPandas()\n",
        "gbt_pd = predictions_gbt.toPandas()"
      ],
      "execution_count": 204,
      "outputs": []
    },
    {
      "cell_type": "code",
      "metadata": {
        "id": "DwZMdWQ0o8qT"
      },
      "source": [
        "rf_pd['probability'] = rf_pd['probability'] * w_0[0]\n",
        "lr_pd['probability'] = lr_pd['probability'] * w_0[1]\n",
        "gbt_pd['probability'] = gbt_pd['probability'] * w_0[2]"
      ],
      "execution_count": 205,
      "outputs": []
    },
    {
      "cell_type": "code",
      "metadata": {
        "id": "i-j6j6oDQBR6"
      },
      "source": [
        "rf_pd['probability'] = rf_pd['probability'] * w_1[0]\n",
        "lr_pd['probability'] = lr_pd['probability'] * w_1[1]\n",
        "gbt_pd['probability'] = gbt_pd['probability'] * w_1[2]"
      ],
      "execution_count": 189,
      "outputs": []
    },
    {
      "cell_type": "code",
      "metadata": {
        "id": "M8fYKeMRQBMg"
      },
      "source": [
        "rf_pd['probability'] = rf_pd['probability'] * w_2[0]\n",
        "lr_pd['probability'] = lr_pd['probability'] * w_2[1]\n",
        "gbt_pd['probability'] = gbt_pd['probability'] * w_2[2]"
      ],
      "execution_count": 193,
      "outputs": []
    },
    {
      "cell_type": "code",
      "metadata": {
        "id": "bL4u66HzQBIo"
      },
      "source": [
        "rf_pd['probability'] = rf_pd['probability'] * w_3[0]\n",
        "lr_pd['probability'] = lr_pd['probability'] * w_3[1]\n",
        "gbt_pd['probability'] = gbt_pd['probability'] * w_3[2]"
      ],
      "execution_count": 161,
      "outputs": []
    },
    {
      "cell_type": "code",
      "metadata": {
        "id": "GGvMWTFQQqO0"
      },
      "source": [
        "rf_pd['probability'] = rf_pd['probability'] * 0.3\n",
        "lr_pd['probability'] = lr_pd['probability'] * 0.4\n",
        "gbt_pd['probability'] = gbt_pd['probability'] * 0.3"
      ],
      "execution_count": 197,
      "outputs": []
    },
    {
      "cell_type": "code",
      "metadata": {
        "id": "ZjQCAvWe5LSe"
      },
      "source": [
        "rf_pd = rf_pd[['SK_ID_CURR','indexedLabel','probability']]\n",
        "lr_pd = lr_pd[['SK_ID_CURR','indexedLabel','probability']]\n",
        "gbt_pd = gbt_pd[['SK_ID_CURR','indexedLabel','probability']]\n",
        "ensembled_pd = rf_pd.merge(lr_pd, on='SK_ID_CURR', how='left')\n",
        "ensembled_pd = ensembled_pd.merge(gbt_pd, on='SK_ID_CURR', how='left')\n",
        "ensembled_pd['weighted_prob'] = ensembled_pd['probability_x']+ensembled_pd['probability_y']+ensembled_pd['probability']\n",
        "ensembled_pd = ensembled_pd[['indexedLabel', 'weighted_prob']]\n",
        "ensembled_pd['prediction'] = ensembled_pd['weighted_prob'].apply(lambda x: 1.0 if x[1]>x[0] else 0.0)\n",
        "ensembled = spark.createDataFrame(ensembled_pd)"
      ],
      "execution_count": 206,
      "outputs": []
    },
    {
      "cell_type": "code",
      "metadata": {
        "colab": {
          "base_uri": "https://localhost:8080/"
        },
        "id": "m7ka9Xvc2zCc",
        "outputId": "20b42ed8-7f45-4468-c4da-97107f67f6de"
      },
      "source": [
        "evaluator = BinaryClassificationEvaluator(labelCol=\"indexedLabel\", rawPredictionCol=\"prediction\", metricName=\"areaUnderROC\")\n",
        "auc_ensemble = evaluator.evaluate(ensembled)\n",
        "print(\"auc = \" +str(auc_ensemble))\n",
        "# result\n",
        "# auc = 0.9541177117432604\n",
        "# auc = 0.9549826173014946\n",
        "# auc = 0.9551137276795155\n",
        "# auc = 0.9541177117432604\n",
        "# w_2 = [0.6, 0.2, 0.2] is best"
      ],
      "execution_count": 199,
      "outputs": [
        {
          "output_type": "stream",
          "text": [
            "auc = 0.9541177117432604\n"
          ],
          "name": "stdout"
        }
      ]
    }
  ]
}
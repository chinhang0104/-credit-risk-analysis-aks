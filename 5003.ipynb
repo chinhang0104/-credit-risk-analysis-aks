{
  "nbformat": 4,
  "nbformat_minor": 0,
  "metadata": {
    "colab": {
      "name": "5003.ipynb",
      "provenance": [],
      "collapsed_sections": []
    },
    "kernelspec": {
      "name": "python3",
      "display_name": "Python 3"
    }
  },
  "cells": [
    {
      "cell_type": "code",
      "metadata": {
        "colab": {
          "base_uri": "https://localhost:8080/"
        },
        "id": "mYXA3DS9Khci",
        "outputId": "028c5023-8e73-49a7-cec4-2f9b1f46c7c7"
      },
      "source": [
        "!apt-get -y install openjdk-8-jre-headless\n",
        "!pip install pyspark\n",
        "from pyspark.sql import SparkSession\n",
        "from pyspark import SparkContext\n",
        "spark = SparkSession.builder.master(\"local\").getOrCreate()\n",
        "sc = SparkContext.getOrCreate()"
      ],
      "execution_count": 1,
      "outputs": [
        {
          "output_type": "stream",
          "text": [
            "Reading package lists... Done\n",
            "Building dependency tree       \n",
            "Reading state information... Done\n",
            "Suggested packages:\n",
            "  libnss-mdns fonts-dejavu-extra fonts-ipafont-gothic fonts-ipafont-mincho\n",
            "  fonts-wqy-microhei fonts-wqy-zenhei fonts-indic\n",
            "The following NEW packages will be installed:\n",
            "  openjdk-8-jre-headless\n",
            "0 upgraded, 1 newly installed, 0 to remove and 14 not upgraded.\n",
            "Need to get 28.2 MB of archives.\n",
            "After this operation, 104 MB of additional disk space will be used.\n",
            "Get:1 http://archive.ubuntu.com/ubuntu bionic-updates/universe amd64 openjdk-8-jre-headless amd64 8u275-b01-0ubuntu1~18.04 [28.2 MB]\n",
            "Fetched 28.2 MB in 4s (6,277 kB/s)\n",
            "Selecting previously unselected package openjdk-8-jre-headless:amd64.\n",
            "(Reading database ... 144793 files and directories currently installed.)\n",
            "Preparing to unpack .../openjdk-8-jre-headless_8u275-b01-0ubuntu1~18.04_amd64.deb ...\n",
            "Unpacking openjdk-8-jre-headless:amd64 (8u275-b01-0ubuntu1~18.04) ...\n",
            "Setting up openjdk-8-jre-headless:amd64 (8u275-b01-0ubuntu1~18.04) ...\n",
            "update-alternatives: using /usr/lib/jvm/java-8-openjdk-amd64/jre/bin/orbd to provide /usr/bin/orbd (orbd) in auto mode\n",
            "update-alternatives: using /usr/lib/jvm/java-8-openjdk-amd64/jre/bin/servertool to provide /usr/bin/servertool (servertool) in auto mode\n",
            "update-alternatives: using /usr/lib/jvm/java-8-openjdk-amd64/jre/bin/tnameserv to provide /usr/bin/tnameserv (tnameserv) in auto mode\n",
            "Collecting pyspark\n",
            "\u001b[?25l  Downloading https://files.pythonhosted.org/packages/f0/26/198fc8c0b98580f617cb03cb298c6056587b8f0447e20fa40c5b634ced77/pyspark-3.0.1.tar.gz (204.2MB)\n",
            "\u001b[K     |████████████████████████████████| 204.2MB 62kB/s \n",
            "\u001b[?25hCollecting py4j==0.10.9\n",
            "\u001b[?25l  Downloading https://files.pythonhosted.org/packages/9e/b6/6a4fb90cd235dc8e265a6a2067f2a2c99f0d91787f06aca4bcf7c23f3f80/py4j-0.10.9-py2.py3-none-any.whl (198kB)\n",
            "\u001b[K     |████████████████████████████████| 204kB 37.5MB/s \n",
            "\u001b[?25hBuilding wheels for collected packages: pyspark\n",
            "  Building wheel for pyspark (setup.py) ... \u001b[?25l\u001b[?25hdone\n",
            "  Created wheel for pyspark: filename=pyspark-3.0.1-py2.py3-none-any.whl size=204612243 sha256=25b6b535a7c193c54519168b35ee8b89d4dc597f08391669fceca43ed220f49b\n",
            "  Stored in directory: /root/.cache/pip/wheels/5e/bd/07/031766ca628adec8435bb40f0bd83bb676ce65ff4007f8e73f\n",
            "Successfully built pyspark\n",
            "Installing collected packages: py4j, pyspark\n",
            "Successfully installed py4j-0.10.9 pyspark-3.0.1\n"
          ],
          "name": "stdout"
        }
      ]
    },
    {
      "cell_type": "code",
      "metadata": {
        "id": "3JJMFWgnLEV7"
      },
      "source": [
        "from pyspark.ml import Pipeline\n",
        "from pyspark.ml.linalg import Vectors\n",
        "from pyspark.ml.feature import FeatureHasher\n",
        "from pyspark.ml.classification import RandomForestClassifier\n",
        "from pyspark.ml.feature import *\n",
        "from pyspark.ml.evaluation import MulticlassClassificationEvaluator\n",
        "from pyspark.ml.evaluation import BinaryClassificationEvaluator\n",
        "from pyspark.ml.tuning import CrossValidator, ParamGridBuilder\n",
        "from pyspark.sql import Row\n",
        "from pyspark.sql.functions import *\n",
        "from pyspark.sql.types import *"
      ],
      "execution_count": 195,
      "outputs": []
    },
    {
      "cell_type": "code",
      "metadata": {
        "id": "gDsvmNqgPDXS"
      },
      "source": [
        "df_train = spark.read.csv(\"/content/test.csv\",inferSchema=\"true\", header=\"true\")"
      ],
      "execution_count": 196,
      "outputs": []
    },
    {
      "cell_type": "code",
      "metadata": {
        "id": "_d7xWnsGPlEB"
      },
      "source": [
        "df_train = df_train.withColumnRenamed('TARGET','label')"
      ],
      "execution_count": 199,
      "outputs": []
    },
    {
      "cell_type": "code",
      "metadata": {
        "id": "kSjGzxs-PG2J"
      },
      "source": [
        "labelIndexer = StringIndexer(inputCol=\"label\", outputCol=\"indexedLabel\").fit(df_train)\n",
        "labeled = labelIndexer.transform(df_train)\n",
        "hasher = FeatureHasher(inputCols=[column for column in list(set(df_train.columns)) if column !='label'],outputCol=\"indexedFeatures\",numFeatures=len([column for column in list(set(df_train.columns)) if column !='label']))\n",
        "featurized = hasher.transform(df_train)"
      ],
      "execution_count": 226,
      "outputs": []
    },
    {
      "cell_type": "code",
      "metadata": {
        "id": "H4hHU0JnPIVl"
      },
      "source": [
        "# Split the data into training and test sets (30% held out for testing)\n",
        "trainingData, testData = df_train.randomSplit([0.7, 0.3])\n",
        "\n",
        "# Train a RandomForest model.\n",
        "rf = RandomForestClassifier(labelCol=\"indexedLabel\", featuresCol=\"indexedFeatures\", numTrees=10)\n",
        "\n",
        "# Chain indexers and forest in a Pipeline\n",
        "pipeline = Pipeline(stages=[labelIndexer, hasher, rf])"
      ],
      "execution_count": 227,
      "outputs": []
    },
    {
      "cell_type": "code",
      "metadata": {
        "id": "9RPO_vlsPN49"
      },
      "source": [
        "model = pipeline.fit(trainingData)"
      ],
      "execution_count": 190,
      "outputs": []
    },
    {
      "cell_type": "code",
      "metadata": {
        "id": "K06YbrPNPPHO"
      },
      "source": [
        "predictions = model.transform(testData)"
      ],
      "execution_count": 191,
      "outputs": []
    },
    {
      "cell_type": "code",
      "metadata": {
        "colab": {
          "base_uri": "https://localhost:8080/"
        },
        "id": "vP_GUrOiPQ2K",
        "outputId": "867e1b85-7715-4fb4-e187-1eb91180f928"
      },
      "source": [
        "evaluator = BinaryClassificationEvaluator(\n",
        "    labelCol=\"indexedLabel\", rawPredictionCol=\"prediction\", metricName=\"areaUnderROC\")\n",
        "auc = evaluator.evaluate(predictions)\n",
        "print(\"auc = \" +str(auc))\n",
        "\n",
        "# test data \n",
        "# auc = 0.9644788386204777 (numfeature = 20)(numTrees = 100)\n",
        "# auc = 0.9714285714285714 (numfeature = 30)(numTrees = 100)\n",
        "# auc = 0.969568670576735 (numfeature = 50)(numTrees = 100)\n",
        "# auc = 0.9550669216061186 (numfeature = 20)(numTrees = 100)\n",
        "# auc = 0.9751381215469613 (numfeature = 30)(numTrees = 10)\n",
        "# auc = 0.9618418877593191 (numfeature = 50)(numTrees = 10)\n",
        "# training data\n",
        "# auc = 0.9643255295429208 (numfeature = 20)(numTrees = 100)\n",
        "# auc = 0.967504494420135 (numfeature = 30)(numTrees = 100)\n",
        "# auc = 0.9557507980757171 (numfeature = 50)(numTrees = 100)\n",
        "# auc = 0.9647058823529412 (numfeature = 20)(numTrees = 10)\n",
        "# auc = 0.9621684867394696 (numfeature = 30)(numTrees = 10)\n",
        "# auc = 0.9586225104019261 (numfeature = 50)(numTrees = 10)"
      ],
      "execution_count": 192,
      "outputs": [
        {
          "output_type": "stream",
          "text": [
            "auc = 0.9550669216061186\n"
          ],
          "name": "stdout"
        }
      ]
    },
    {
      "cell_type": "code",
      "metadata": {
        "id": "EpNprqmbbs-K"
      },
      "source": [
        "import numpy as np\n",
        "paramGrid = ParamGridBuilder() \\\n",
        "    .addGrid(rf.numTrees, [int(x) for x in np.linspace(start = 10, stop = 50, num = 3)]) \\\n",
        "    .addGrid(rf.maxDepth, [int(x) for x in np.linspace(start = 5, stop = 25, num = 3)]) \\\n",
        "    .build()\n",
        "\n",
        "crossval = CrossValidator(estimator=pipeline,\n",
        "                          estimatorParamMaps=paramGrid,\n",
        "                          evaluator=BinaryClassificationEvaluator(),\n",
        "                          numFolds=3)  # use 3+ folds in practice"
      ],
      "execution_count": 228,
      "outputs": []
    },
    {
      "cell_type": "code",
      "metadata": {
        "id": "M9X1ABQWrmin"
      },
      "source": [
        "cvModel = crossval.fit(df_train)"
      ],
      "execution_count": 229,
      "outputs": []
    },
    {
      "cell_type": "code",
      "metadata": {
        "id": "bf9Jd40TsOxU"
      },
      "source": [
        "predictionsDf = cvModel.transform(df_train)"
      ],
      "execution_count": 230,
      "outputs": []
    },
    {
      "cell_type": "code",
      "metadata": {
        "colab": {
          "base_uri": "https://localhost:8080/"
        },
        "id": "qjjfv7MdsXqP",
        "outputId": "306e963d-59ee-417d-f134-b13780a8751c"
      },
      "source": [
        "evaluator = BinaryClassificationEvaluator(\n",
        "    labelCol=\"indexedLabel\", rawPredictionCol=\"prediction\", metricName=\"areaUnderROC\")\n",
        "auc = evaluator.evaluate(predictionsDf)\n",
        "print(\"auc = \" +str(auc))"
      ],
      "execution_count": 231,
      "outputs": [
        {
          "output_type": "stream",
          "text": [
            "auc = 0.9973821971069841\n"
          ],
          "name": "stdout"
        }
      ]
    },
    {
      "cell_type": "code",
      "metadata": {
        "colab": {
          "base_uri": "https://localhost:8080/",
          "height": 479
        },
        "id": "U9hIkVEZsLan",
        "outputId": "0fdd058d-2073-4e67-d7bb-3562f33aba1b"
      },
      "source": [
        "import matplotlib.pyplot as plt\n",
        "bestPipeline = cvModel.bestModel\n",
        "bestModel = bestPipeline.stages[2]\n",
        "\n",
        "feature_list = []\n",
        "for col in df_train.columns:\n",
        "    if col == 'label':\n",
        "        continue\n",
        "    else:\n",
        "        feature_list.append(col)\n",
        "\n",
        "importances = bestModel.featureImportances\n",
        "\n",
        "x_values = list(range(len(importances)))\n",
        "\n",
        "plt.bar(x_values, importances, orientation = 'vertical')\n",
        "plt.xticks(x_values, feature_list, rotation=90)\n",
        "plt.ylabel('Importance')\n",
        "plt.xlabel('Feature')\n",
        "plt.title('Feature Importances')\n",
        "\n",
        "\n",
        "print('numTrees - ', bestModel.getNumTrees)\n",
        "print('maxDepth - ', bestModel.getOrDefault('maxDepth'))"
      ],
      "execution_count": 232,
      "outputs": [
        {
          "output_type": "stream",
          "text": [
            "numTrees -  10\n",
            "maxDepth -  25\n"
          ],
          "name": "stdout"
        },
        {
          "output_type": "display_data",
          "data": {
            "image/png": "[encoded data removed]",
            "text/plain": [
              "<Figure size 432x288 with 1 Axes>"
            ]
          },
          "metadata": {
            "tags": [],
            "needs_background": "light"
          }
        }
      ]
    }
  ]
}
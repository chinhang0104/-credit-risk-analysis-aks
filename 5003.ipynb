{
 "cells": [
  {
   "cell_type": "code",
   "execution_count": 1,
   "metadata": {},
   "outputs": [],
   "source": [
    "from pyspark.ml import Pipeline\n",
    "from pyspark.ml.linalg import Vectors\n",
    "from pyspark.ml.feature import FeatureHasher\n",
    "from pyspark.ml.classification import RandomForestClassifier\n",
    "from pyspark.ml.feature import *\n",
    "from pyspark.ml.evaluation import MulticlassClassificationEvaluator\n",
    "from pyspark.ml.tuning import CrossValidator, ParamGridBuilder\n",
    "from pyspark.sql import Row\n",
    "from pyspark.sql.functions import *\n",
    "from pyspark.sql.types import *"
   ]
  },
  {
   "cell_type": "markdown",
   "metadata": {},
   "source": [
    "# Load data"
   ]
  },
  {
   "cell_type": "code",
   "execution_count": 15,
   "metadata": {},
   "outputs": [],
   "source": [
    "df_train = spark.read.csv(\"data/application_train.csv\",inferSchema=\"true\", header=\"true\")\n",
    "#df_test = spark.read.csv(\"data/application_test.csv\",inferSchema=\"true\", header=\"true\")\n",
    "#df_bbal = spark.read.csv(\"data/bureau_balance.csv\",inferSchema=\"true\", header=\"true\")\n",
    "#df_cbal = spark.read.csv(\"data/credit_card_balance.csv\",inferSchema=\"true\", header=\"true\")\n",
    "#df_inspay = spark.read.csv(\"data/installments_payments.csv\",inferSchema=\"true\", header=\"true\")\n",
    "#df_pos = spark.read.csv(\"data/POS_CASH_balance.csv\",inferSchema=\"true\", header=\"true\")\n",
    "#df_prevap = spark.read.csv(\"data/previous_application.csv\",inferSchema=\"true\", header=\"true\")"
   ]
  },
  {
   "cell_type": "markdown",
   "metadata": {},
   "source": [
    "# Make RDD"
   ]
  },
  {
   "cell_type": "code",
   "execution_count": 16,
   "metadata": {},
   "outputs": [],
   "source": [
    "df_train_rdd = df_train.rdd\n",
    "#df_test = df_test.rdd\n",
    "#df_bbal = df_bbal.rdd\n",
    "#df_cbal = df_cbal.rdd\n",
    "#df_inspay = df_inspay.rdd\n",
    "#df_pos = df_pos.rdd\n",
    "#df_prevap = df_prevap.rdd"
   ]
  },
  {
   "cell_type": "code",
   "execution_count": 17,
   "metadata": {},
   "outputs": [],
   "source": [
    "# Index labels, adding metadata to the label column.\n",
    "# Fit on whole dataset to include all labels in index.\n",
    "labelIndexer = StringIndexer(inputCol=\"TARGET\", outputCol=\"indexedLabel\").fit(df_train)\n",
    "\n",
    "#featureIndexer = [StringIndexer(inputCol=column, outputCol=column+\"_index\").fit(df_train) for column in list(set(df_train.columns))]\n",
    "hasher = FeatureHasher(inputCols=[column for column in list(set(df_train.columns))],outputCol=\"indexedFeatures\")"
   ]
  },
  {
   "cell_type": "code",
   "execution_count": 18,
   "metadata": {},
   "outputs": [],
   "source": [
    "# Split the data into training and test sets (30% held out for testing)\n",
    "trainingData, testData = df_train.randomSplit([0.7, 0.3])\n",
    "\n",
    "# Train a RandomForest model.\n",
    "featurized = hasher.transform(df_train)\n",
    "rf = RandomForestClassifier(labelCol=\"indexedLabel\", featuresCol=\"indexedFeatures\")\n",
    "\n",
    "# Convert indexed labels back to original labels.\n",
    "labelConverter = IndexToString(inputCol=\"prediction\", outputCol=\"predictedLabel\",\n",
    "                               labels=labelIndexer.labels)\n",
    "\n",
    "# Chain indexers and forest in a Pipeline\n",
    "#pipeline = Pipeline().setStages([labelIndexer] + featureIndexer + [rf, labelConverter])\n",
    "pipeline = Pipeline(stages=[labelIndexer, hasher, rf, labelConverter])"
   ]
  },
  {
   "cell_type": "code",
   "execution_count": 19,
   "metadata": {},
   "outputs": [],
   "source": [
    "# Train model.  This also runs the indexers.\n",
    "model = pipeline.fit(trainingData)"
   ]
  },
  {
   "cell_type": "code",
   "execution_count": 21,
   "metadata": {
    "scrolled": true
   },
   "outputs": [],
   "source": [
    "# Make predictions.\n",
    "predictions = model.transform(testData)"
   ]
  },
  {
   "cell_type": "code",
   "execution_count": 26,
   "metadata": {},
   "outputs": [
    {
     "name": "stdout",
     "output_type": "stream",
     "text": [
      "Test Error = 0.0808012\n",
      "RandomForestClassifier_0d4b2593447a\n"
     ]
    }
   ],
   "source": [
    "# Select (prediction, true label) and compute test error\n",
    "evaluator = MulticlassClassificationEvaluator(\n",
    "    labelCol=\"indexedLabel\", predictionCol=\"prediction\", metricName=\"accuracy\")\n",
    "accuracy = evaluator.evaluate(predictions)\n",
    "print(\"Test Error = %g\" % (1.0 - accuracy))\n",
    "\n",
    "print(rf)  # summary only"
   ]
  }
 ],
 "metadata": {
  "kernelspec": {
   "display_name": "Python 3",
   "language": "python",
   "name": "python3"
  },
  "language_info": {
   "codemirror_mode": {
    "name": "ipython",
    "version": 3
   },
   "file_extension": ".py",
   "mimetype": "text/x-python",
   "name": "python",
   "nbconvert_exporter": "python",
   "pygments_lexer": "ipython3",
   "version": "3.8.3"
  }
 },
 "nbformat": 4,
 "nbformat_minor": 4
}
